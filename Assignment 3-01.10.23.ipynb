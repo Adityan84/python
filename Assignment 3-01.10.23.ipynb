{
 "cells": [
  {
   "cell_type": "code",
   "execution_count": 25,
   "metadata": {},
   "outputs": [
    {
     "name": "stdout",
     "output_type": "stream",
     "text": [
      "Enter your age:26\n",
      "adult\n"
     ]
    }
   ],
   "source": [
    "#Catagory the people by their age like children, adult, citizen, senior citizen\n",
    "\n",
    "\n",
    "age=int(input(\"Enter your age:\"))\n",
    "if (age>=18):\n",
    "        print(\"adult\")        \n",
    "else:\n",
    "        print (\"is minor\")"
   ]
  },
  {
   "cell_type": "code",
   "execution_count": 3,
   "metadata": {},
   "outputs": [
    {
     "name": "stdout",
     "output_type": "stream",
     "text": [
      "Enter your age:59\n",
      "adult\n"
     ]
    }
   ],
   "source": [
    "age=int(input(\"Enter your age:\"))\n",
    "if (age<18):\n",
    "        print(\"minor\")        \n",
    "elif  age>20:\n",
    "        print(\"adult\")\n",
    "elif  (age<58):\n",
    "        print(\"Citizen\")\n",
    "else:    \n",
    "        print(\"senior citizen\")"
   ]
  },
  {
   "cell_type": "code",
   "execution_count": null,
   "metadata": {},
   "outputs": [],
   "source": [
    "Find whether given number is positive or negative"
   ]
  },
  {
   "cell_type": "code",
   "execution_count": 10,
   "metadata": {},
   "outputs": [
    {
     "name": "stdout",
     "output_type": "stream",
     "text": [
      "Input a number: -5\n",
      "It is a negative number\n"
     ]
    }
   ],
   "source": [
    "num = float(input(\"Input a number: \"))\n",
    "if num > 0:\n",
    "   print(\"It is positive number\")\n",
    "elif num == 0:\n",
    "   print(\"It is Zero\")\n",
    "else:\n",
    "   print(\"It is a negative number\")"
   ]
  },
  {
   "cell_type": "code",
   "execution_count": 15,
   "metadata": {},
   "outputs": [],
   "source": [
    "#Check whether the given number is divisible by 5\n"
   ]
  },
  {
   "cell_type": "code",
   "execution_count": 1,
   "metadata": {},
   "outputs": [
    {
     "name": "stdout",
     "output_type": "stream",
     "text": [
      "Enter a Number (Numerator): \n",
      "22\n",
      "5\n",
      "\n",
      "22 is not divisible by 5\n"
     ]
    }
   ],
   "source": [
    "\n",
    "print(\"Enter a Number (Numerator): \")\n",
    "numn = int(input())\n",
    "numd = int(input())\n",
    "\n",
    "if numn%numd==5:\n",
    "  print(\"\\n\" +str(numn)+ \" is divisible by \" +str(numd))\n",
    "else:\n",
    "  print(\"\\n\" +str(numn)+ \" is not divisible by \" +str(numd))"
   ]
  },
  {
   "cell_type": "code",
   "execution_count": null,
   "metadata": {},
   "outputs": [],
   "source": []
  }
 ],
 "metadata": {
  "kernelspec": {
   "display_name": "Python 3",
   "language": "python",
   "name": "python3"
  },
  "language_info": {
   "codemirror_mode": {
    "name": "ipython",
    "version": 3
   },
   "file_extension": ".py",
   "mimetype": "text/x-python",
   "name": "python",
   "nbconvert_exporter": "python",
   "pygments_lexer": "ipython3",
   "version": "3.7.4"
  }
 },
 "nbformat": 4,
 "nbformat_minor": 2
}
