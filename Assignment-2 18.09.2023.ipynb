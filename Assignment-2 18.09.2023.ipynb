{
 "cells": [
  {
   "cell_type": "code",
   "execution_count": 1,
   "metadata": {},
   "outputs": [
    {
     "name": "stdout",
     "output_type": "stream",
     "text": [
      "HOPE AI\n"
     ]
    }
   ],
   "source": [
    "print(\"HOPE AI\")"
   ]
  },
  {
   "cell_type": "code",
   "execution_count": 2,
   "metadata": {},
   "outputs": [
    {
     "name": "stdout",
     "output_type": "stream",
     "text": [
      "Enter your Institute Name:  HOPE AI\n"
     ]
    }
   ],
   "source": [
    "name=input(\"Enter your Institute Name:\")     "
   ]
  },
  {
   "cell_type": "code",
   "execution_count": 1,
   "metadata": {},
   "outputs": [
    {
     "name": "stdout",
     "output_type": "stream",
     "text": [
      "Enter your Name :  athithan\n",
      "Enter your Age   :  28\n",
      "Enter Your college Name : vels\n",
      "Enter your degree : mca\n"
     ]
    }
   ],
   "source": [
    "name=input(\"Enter your Name :  \")\n",
    "age=input(\"Enter your Age   :  \")\n",
    "school=input(\"Enter Your college Name : \")\n",
    "degree=input(\"Enter your degree : \")"
   ]
  },
  {
   "cell_type": "code",
   "execution_count": 6,
   "metadata": {},
   "outputs": [
    {
     "name": "stdout",
     "output_type": "stream",
     "text": [
      "Enter no 1 :  12\n",
      "Enter no2  :  12\n",
      "Answer: 24\n"
     ]
    }
   ],
   "source": [
    "# ADDITION OF TWO NUMBER\n",
    "a=int(input(\"Enter no 1 :  \"))\n",
    "b=int(input(\"Enter no2  :  \"))\n",
    "sum=a+b\n",
    "print(\"Answer:\",sum)"
   ]
  },
  {
   "cell_type": "code",
   "execution_count": 8,
   "metadata": {},
   "outputs": [
    {
     "name": "stdout",
     "output_type": "stream",
     "text": [
      "ENter no1: 25\n",
      "Enter no2: 35\n",
      "answer: -10\n"
     ]
    }
   ],
   "source": [
    "#subtraction of two numbeprint(\"Anser\n",
    "a=int(input(\"ENter no1: \"))\n",
    "b=int(input(\"Enter no2: \"))\n",
    "sum=(a-b)\n",
    "print(\"answer:\",sum)"
   ]
  },
  {
   "cell_type": "code",
   "execution_count": 11,
   "metadata": {},
   "outputs": [
    {
     "name": "stdout",
     "output_type": "stream",
     "text": [
      "enter no1:  25\n",
      "enter no2:  5\n",
      "answer: 5.0\n"
     ]
    }
   ],
   "source": [
    "#DIVISION \n",
    "x=int(input(\"enter no1:  \"))\n",
    "y=int(input(\"enter no2:  \"))\n",
    "sum=x/y\n",
    "print(\"answer:\",sum)"
   ]
  },
  {
   "cell_type": "code",
   "execution_count": 17,
   "metadata": {},
   "outputs": [
    {
     "name": "stdout",
     "output_type": "stream",
     "text": [
      "enter no1: 76\n",
      "enter no2: 31\n",
      "anser: 2\n"
     ]
    }
   ],
   "source": [
    "#FLOOR DIVISION\n",
    "x=int(input(\"enter no1: \"))\n",
    "y=int(input(\"enter no2: \"))\n",
    "sum=x//y\n",
    "print(\"anser:\",sum)"
   ]
  },
  {
   "cell_type": "code",
   "execution_count": 15,
   "metadata": {},
   "outputs": [
    {
     "name": "stdout",
     "output_type": "stream",
     "text": [
      "enter no1:76\n",
      "enter no2:31\n",
      "answer: 14\n"
     ]
    }
   ],
   "source": [
    "#modulo\n",
    "x=int(input(\"enter no1:\"))\n",
    "y=int(input(\"enter no2:\"))\n",
    "sum=x%y\n",
    "print(\"answer:\",sum)"
   ]
  },
  {
   "cell_type": "code",
   "execution_count": 7,
   "metadata": {},
   "outputs": [
    {
     "name": "stdout",
     "output_type": "stream",
     "text": [
      "enter no1:4\n",
      "enter no2:4\n",
      "answer: 256\n"
     ]
    }
   ],
   "source": [
    "#power\n",
    "numb1=int(input(\"enter no1:\"))\n",
    "numb2=int(input(\"enter no2:\"))\n",
    "sum=pow(numb1,numb2)\n",
    "print(\"answer:\",sum)"
   ]
  },
  {
   "cell_type": "code",
   "execution_count": null,
   "metadata": {},
   "outputs": [],
   "source": []
  }
 ],
 "metadata": {
  "kernelspec": {
   "display_name": "Python 3",
   "language": "python",
   "name": "python3"
  },
  "language_info": {
   "codemirror_mode": {
    "name": "ipython",
    "version": 3
   },
   "file_extension": ".py",
   "mimetype": "text/x-python",
   "name": "python",
   "nbconvert_exporter": "python",
   "pygments_lexer": "ipython3",
   "version": "3.7.4"
  }
 },
 "nbformat": 4,
 "nbformat_minor": 2
}
