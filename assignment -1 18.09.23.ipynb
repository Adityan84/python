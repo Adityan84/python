{
 "cells": [
  {
   "cell_type": "code",
   "execution_count": null,
   "metadata": {},
   "outputs": [],
   "source": [
    "print(\"Welcome to Assignment-1\")"
   ]
  },
  {
   "cell_type": "code",
   "execution_count": 4,
   "metadata": {},
   "outputs": [
    {
     "name": "stdout",
     "output_type": "stream",
     "text": [
      "Addition of two numbers:\n",
      "Enter the No1: 10\n",
      "Enter the No2: 90\n",
      "answer: 100\n"
     ]
    }
   ],
   "source": [
    "print(\"Addition of two numbers:\")\n",
    "numb1=10\n",
    "print(\"Enter the No1:\",numb1)\n",
    "numb2=90\n",
    "print(\"Enter the No2:\",numb2)\n",
    "add=numb1+numb2\n",
    "print(\"answer:\",add)"
   ]
  },
  {
   "cell_type": "code",
   "execution_count": null,
   "metadata": {},
   "outputs": [],
   "source": [
    "print(\"Addition of two numbers:\")"
   ]
  },
  {
   "cell_type": "code",
   "execution_count": 1,
   "metadata": {},
   "outputs": [
    {
     "name": "stdout",
     "output_type": "stream",
     "text": [
      "enter the no1:15\n",
      "enter the no2:16\n",
      "answer is: 31\n"
     ]
    }
   ],
   "source": [
    "x=input(\"enter the no1:\")\n",
    "y=input(\"enter the no2:\")\n",
    "sum=int(x)+int(y)\n",
    "print(\"answer is:\",sum)"
   ]
  },
  {
   "cell_type": "code",
   "execution_count": 3,
   "metadata": {},
   "outputs": [
    {
     "name": "stdout",
     "output_type": "stream",
     "text": [
      "Addition of two numbers\n",
      "Enter the No1:45\n",
      "Enter the No2:45\n",
      "Total is: 90\n"
     ]
    }
   ],
   "source": [
    "print(\"Addition of two numbers\")\n",
    "num1=input(\"Enter the No1:\")\n",
    "numb2=input(\"Enter the No2:\")\n",
    "add=int(num1)+int(numb2)\n",
    "print(\"Total is:\",add)"
   ]
  },
  {
   "cell_type": "code",
   "execution_count": null,
   "metadata": {},
   "outputs": [],
   "source": [
    "BODY BMI INDEX  "
   ]
  },
  {
   "cell_type": "code",
   "execution_count": 11,
   "metadata": {},
   "outputs": [
    {
     "name": "stdout",
     "output_type": "stream",
     "text": [
      "Enter the bmi level:32\n"
     ]
    }
   ],
   "source": [
    "bmi=int(input(\"Enter the bmi level:\"))"
   ]
  },
  {
   "cell_type": "code",
   "execution_count": 12,
   "metadata": {},
   "outputs": [
    {
     "name": "stdout",
     "output_type": "stream",
     "text": [
      "body BMI overweight is:\n",
      "normal\n"
     ]
    }
   ],
   "source": [
    "print(\"body BMI overweight is:\")\n",
    "if(bmi >=34):\n",
    "    print(\"overweight\")\n",
    "else:\n",
    "    print(\"normal\")"
   ]
  },
  {
   "cell_type": "code",
   "execution_count": null,
   "metadata": {},
   "outputs": [],
   "source": []
  }
 ],
 "metadata": {
  "kernelspec": {
   "display_name": "Python 3",
   "language": "python",
   "name": "python3"
  },
  "language_info": {
   "codemirror_mode": {
    "name": "ipython",
    "version": 3
   },
   "file_extension": ".py",
   "mimetype": "text/x-python",
   "name": "python",
   "nbconvert_exporter": "python",
   "pygments_lexer": "ipython3",
   "version": "3.7.4"
  }
 },
 "nbformat": 4,
 "nbformat_minor": 2
}
